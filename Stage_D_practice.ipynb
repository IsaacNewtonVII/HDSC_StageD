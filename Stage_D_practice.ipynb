{
  "nbformat": 4,
  "nbformat_minor": 0,
  "metadata": {
    "colab": {
      "provenance": [],
      "collapsed_sections": [],
      "authorship_tag": "ABX9TyPMK7n4h/psvUpgbLIUktyd",
      "include_colab_link": true
    },
    "kernelspec": {
      "name": "python3",
      "display_name": "Python 3"
    },
    "language_info": {
      "name": "python"
    }
  },
  "cells": [
    {
      "cell_type": "markdown",
      "metadata": {
        "id": "view-in-github",
        "colab_type": "text"
      },
      "source": [
        "<a href=\"https://colab.research.google.com/github/IsaacNewtonVII/HDSC_StageD/blob/main/Stage_D_practice.ipynb\" target=\"_parent\"><img src=\"https://colab.research.google.com/assets/colab-badge.svg\" alt=\"Open In Colab\"/></a>"
      ]
    },
    {
      "cell_type": "markdown",
      "source": [
        "## Importing libraries and loading the data"
      ],
      "metadata": {
        "id": "IZYlzD9Jv6oC"
      }
    },
    {
      "cell_type": "code",
      "source": [
        "#Importing needed libraries\n",
        "\n",
        "import numpy as np\n",
        "import matplotlib.pyplot as plt\n",
        "import tensorflow as tf\n",
        "from tensorflow import keras\n",
        "\n"
      ],
      "metadata": {
        "id": "mfTf9yfgwSsU"
      },
      "execution_count": null,
      "outputs": []
    },
    {
      "cell_type": "code",
      "source": [
        "#Mnist is a dataset that comes with Keras by default, we simply load the test and train files as shown below\n",
        "\n",
        "mnist = keras.datasets.mnist\n",
        "(train_images, train_labels), (test_images, test_labels) = mnist.load_data()"
      ],
      "metadata": {
        "colab": {
          "base_uri": "https://localhost:8080/"
        },
        "id": "iNF6gckExJww",
        "outputId": "e493272b-56ff-4824-858e-b8d3e839f5de"
      },
      "execution_count": null,
      "outputs": [
        {
          "output_type": "stream",
          "name": "stdout",
          "text": [
            "Downloading data from https://storage.googleapis.com/tensorflow/tf-keras-datasets/mnist.npz\n",
            "11493376/11490434 [==============================] - 0s 0us/step\n",
            "11501568/11490434 [==============================] - 0s 0us/step\n"
          ]
        }
      ]
    },
    {
      "cell_type": "markdown",
      "source": [
        "#Exploring the data\n",
        "\n",
        "The mnist dataset is a collection of 28 x 28 pixel images showing hand-drawn representations of the digits 0-9, or what we will refer to as 10 classes. Every mnist datapoint has two parts: the image of a handwritten digit(x) and the corresponding label(y), Both the training set and the test set contains images and the corresponding labels."
      ],
      "metadata": {
        "id": "q0sJbkLGy9lp"
      }
    },
    {
      "cell_type": "code",
      "source": [
        "#Peaking the shape of the datasets\n",
        "\n",
        "print(\"Training data: {}, {}\".format(train_images.shape, train_labels.shape))\n",
        "print(\"Test data: {}, {}\".format(test_images.shape, test_labels.shape))"
      ],
      "metadata": {
        "colab": {
          "base_uri": "https://localhost:8080/"
        },
        "id": "uuiICkyLy7nR",
        "outputId": "b53243fc-21d3-4397-9fa7-093e0a45274a"
      },
      "execution_count": null,
      "outputs": [
        {
          "output_type": "stream",
          "name": "stdout",
          "text": [
            "Training data: (60000, 28, 28), (60000,)\n",
            "Test data: (10000, 28, 28), (10000,)\n"
          ]
        }
      ]
    },
    {
      "cell_type": "code",
      "source": [
        "class_labels = np.unique(train_labels)\n",
        "print(\"There are {} classes in the dataset. They are: {}\".format(len(class_labels), class_labels))"
      ],
      "metadata": {
        "colab": {
          "base_uri": "https://localhost:8080/"
        },
        "id": "9b9KF-kb1J3X",
        "outputId": "19d297c0-4120-4744-c88c-e0937646b84f"
      },
      "execution_count": null,
      "outputs": [
        {
          "output_type": "stream",
          "name": "stdout",
          "text": [
            "There are 10 classes in the dataset. They are: [0 1 2 3 4 5 6 7 8 9]\n"
          ]
        }
      ]
    },
    {
      "cell_type": "code",
      "source": [
        "#Visualizing the images\n",
        "\n",
        "plt.figure(figsize=(8, 5))\n",
        "#the subplot() function takes three arguments that describes the layout of the figure\n",
        "#the figure below has 1 row, 3 columns, and this plot is the first plot as represented by the third argument(index of current plot)\n",
        "plt.subplot(1,3,1)\n",
        "#the imshow() function is used to display data as an image; i.e. on a 2D regular raster\n",
        "plt.imshow(train_images[0])\n",
        "plt.title(\"Label: {}\".format(train_labels[0]))"
      ],
      "metadata": {
        "colab": {
          "base_uri": "https://localhost:8080/",
          "height": 212
        },
        "id": "vygcyZTE3heI",
        "outputId": "e145e3e2-2fd3-4ac5-df37-9613d7974784"
      },
      "execution_count": null,
      "outputs": [
        {
          "output_type": "execute_result",
          "data": {
            "text/plain": [
              "Text(0.5, 1.0, 'Label: 5')"
            ]
          },
          "metadata": {},
          "execution_count": 5
        },
        {
          "output_type": "display_data",
          "data": {
            "text/plain": [
              "<Figure size 576x360 with 1 Axes>"
            ],
            "image/png": "[encoded data removed]"
          },
          "metadata": {
            "needs_background": "light"
          }
        }
      ]
    },
    {
      "cell_type": "code",
      "source": [
        "plt.subplot(1,3,2)\n",
        "plt.imshow(train_images[2500])\n",
        "plt.title(\"Label: {}\".format(train_labels[2500]))"
      ],
      "metadata": {
        "colab": {
          "base_uri": "https://localhost:8080/",
          "height": 179
        },
        "id": "y_qjZ03A84iC",
        "outputId": "26856e7c-c015-4562-a3a5-8a3d63bd9766"
      },
      "execution_count": null,
      "outputs": [
        {
          "output_type": "execute_result",
          "data": {
            "text/plain": [
              "Text(0.5, 1.0, 'Label: 0')"
            ]
          },
          "metadata": {},
          "execution_count": 6
        },
        {
          "output_type": "display_data",
          "data": {
            "text/plain": [
              "<Figure size 432x288 with 1 Axes>"
            ],
            "image/png": "[encoded data removed]"
          },
          "metadata": {
            "needs_background": "light"
          }
        }
      ]
    },
    {
      "cell_type": "code",
      "source": [
        "plt.subplot(1,3,3)\n",
        "plt.imshow(test_images[12])\n",
        "plt.show()"
      ],
      "metadata": {
        "colab": {
          "base_uri": "https://localhost:8080/",
          "height": 149
        },
        "id": "PPfh9qWf9P-0",
        "outputId": "c07d1be8-6d6f-454b-cefe-2b8f02ab025d"
      },
      "execution_count": null,
      "outputs": [
        {
          "output_type": "display_data",
          "data": {
            "text/plain": [
              "<Figure size 432x288 with 1 Axes>"
            ],
            "image/png": "[encoded data removed]"
          },
          "metadata": {
            "needs_background": "light"
          }
        }
      ]
    },
    {
      "cell_type": "markdown",
      "source": [
        "## Data Processing\n",
        "\n",
        "We will need to scale the images pixel values. Pixel values are often unsigned integers in the range between 0 and 255. Although these pixel values can be presented directly to neural networks in their raw format, this can result in challenges during modeling, such as in the slower than expected training of the model.\n",
        "\n",
        "Instead, there can be great benefit in preparing the image pixel values prior to modeling, such as simply scaling pixel values to the range 0-1 , even standardizing the values and centering it"
      ],
      "metadata": {
        "id": "tSKd5mP79u_l"
      }
    },
    {
      "cell_type": "code",
      "source": [
        "#we normalize our dataset to range between 0 and 1. In this dataset , the pixel values range from 0 to 255.\n",
        "#Dividing the data by 255 scale it to the required range. This is done to help with the training.\n",
        "\n",
        "train_images = train_images / 255.0\n",
        "test_images  = test_images / 255.0"
      ],
      "metadata": {
        "id": "myq0Uu5p9sw-"
      },
      "execution_count": null,
      "outputs": []
    },
    {
      "cell_type": "markdown",
      "source": [
        "The training data is further partitioned to create a validation set. We split the training data to training and validation sets.\n",
        "In other words, a training set is used to fit the parameters, validation set is used to tune the parameters while the trained classifieris evaluated on the test set."
      ],
      "metadata": {
        "id": "ASrX94AOCJS5"
      }
    },
    {
      "cell_type": "code",
      "source": [
        "x_train = train_images[0:50000]\n",
        "x_val = train_images[50000:]\n",
        "y_train = train_labels[0:50000]\n",
        "y_val = train_labels[50000:]\n",
        "\n",
        "print(\"x_train: {}\".format(x_train.shape))\n",
        "print(\"x_val: {}\".format(x_val.shape))\n",
        "print(\"y_train: {}\".format(y_train.shape))\n",
        "print(\"y_val: {}\".format(y_val.shape))"
      ],
      "metadata": {
        "colab": {
          "base_uri": "https://localhost:8080/"
        },
        "id": "Z0bEPeUNCGca",
        "outputId": "af4e6a41-6b4d-44ee-bdf8-aaa8b1b20f1a"
      },
      "execution_count": null,
      "outputs": [
        {
          "output_type": "stream",
          "name": "stdout",
          "text": [
            "x_train: (50000, 28, 28)\n",
            "x_val: (10000, 28, 28)\n",
            "y_train: (50000,)\n",
            "y_val: (10000,)\n"
          ]
        }
      ]
    },
    {
      "cell_type": "markdown",
      "source": [],
      "metadata": {
        "id": "3nTWXNw4G8yK"
      }
    },
    {
      "cell_type": "markdown",
      "source": [
        "Now we one-hot encode the categorical column(y in this case). \n",
        "In one-hot encoding, we convert the categorical data into a vector of numbers i.e converting class vectors to binary class vectors(0 and 1). This is done because machine learning algorithms cannot work with categorical data directly.\n",
        "\n",
        "The one-hot encoding will be a row vector, and for each image, it will have a dimension of 1 x 10.\n",
        "It's important to note that the vector consists of all zeros except for the class that it represents, there you'll find a 1. E.g 3 translates to [0 0 0 1 0 0 0 0 0 0] and 9 translates to [0 0 0 0 0 0 0 0 0 1]. Note that no_labels also refers to the number of classes which is 10"
      ],
      "metadata": {
        "id": "82Mr7-7uG80P"
      }
    },
    {
      "cell_type": "code",
      "source": [
        "# one-hot encoding using keras' numpy-related utilities\n",
        "\n",
        "from tensorflow.keras.utils import to_categorical\n",
        "no_labels = 10\n",
        "y_train = to_categorical(y_train, no_labels)\n",
        "y_val = to_categorical(y_val, no_labels)\n",
        "y_test = to_categorical(test_labels, no_labels)"
      ],
      "metadata": {
        "id": "rdhN_3_yEnDR"
      },
      "execution_count": null,
      "outputs": []
    },
    {
      "cell_type": "markdown",
      "source": [
        "As with all machine learning, the models are very picky about the format of the input data. We need to reshape the 28 x 28 image arrays into 784-unit vectors. This is necessary because the first layer of the network is expecting a vector input"
      ],
      "metadata": {
        "id": "OIcw5M_hJSu1"
      }
    },
    {
      "cell_type": "code",
      "source": [
        "# Flattening/reshaping the images from the 2D 28 * 28 pixels array to 1D 784 single pixel array\n",
        "\n",
        "new_dimension = np.prod(train_images.shape[1:])\n",
        "x_train = x_train.reshape(x_train.shape[0], new_dimension)\n",
        "x_val = x_val.reshape(x_val.shape[0], new_dimension)\n",
        "test_images = test_images.reshape(test_images.shape[0], new_dimension)\n",
        "\n",
        "print(\"x_train: {}\".format(x_train.shape))\n",
        "print(\"x_val: {}\".format(x_val.shape))\n",
        "print(\"test_images: {}\".format(test_images.shape))"
      ],
      "metadata": {
        "colab": {
          "base_uri": "https://localhost:8080/"
        },
        "id": "lF6-v15aJRwR",
        "outputId": "5d80491e-2bfa-4585-dfd4-590367b8c064"
      },
      "execution_count": null,
      "outputs": [
        {
          "output_type": "stream",
          "name": "stdout",
          "text": [
            "x_train: (50000, 784)\n",
            "x_val: (10000, 784)\n",
            "test_images: (10000, 784)\n"
          ]
        }
      ]
    },
    {
      "cell_type": "markdown",
      "source": [
        "We will now define two placeholders, an input placeholder X and an output placeholder Y.\n",
        "In tensorflow, the placeholder is a variable that we will assign data to at a later time. This method allows the user to create operations and build our computation graph, without needing the data. In Tensorflow terminology, we then feed data into the graph through these placeholders.\n",
        "Normally, in python if we want to initialize some data then we use variables but placeholder allow you to feed data into a computation graph\n",
        ".placeholder consists of a few parameters\n",
        "- dtype: This parameter indicates which type of elements in the tensor\n",
        "- shape: by default, it takes none value and if you do not mention the shape in a tensor then you can feed a tensor of any shape.\n",
        "-name: this parameter specifies the name of the operation and it is an optional parameter."
      ],
      "metadata": {
        "id": "qGveIlndG7yb"
      }
    },
    {
      "cell_type": "code",
      "source": [
        "#inputs\n",
        "#placeholders are not enabled in tf 2\n",
        "import tensorflow.compat.v1 as tf\n",
        "tf.disable_v2_behavior()\n",
        "X = tf.placeholder(tf.float32, [None, new_dimension])\n",
        "Y = tf.placeholder(tf.float32, [None, no_labels])\n"
      ],
      "metadata": {
        "colab": {
          "base_uri": "https://localhost:8080/"
        },
        "id": "hvejRyVGV7Xs",
        "outputId": "c9983174-bd87-4836-dd31-99dac662e625"
      },
      "execution_count": null,
      "outputs": [
        {
          "output_type": "stream",
          "name": "stderr",
          "text": [
            "WARNING:tensorflow:From /usr/local/lib/python3.7/dist-packages/tensorflow/python/compat/v2_compat.py:107: disable_resource_variables (from tensorflow.python.ops.variable_scope) is deprecated and will be removed in a future version.\n",
            "Instructions for updating:\n",
            "non-resource variables are not supported in the long term\n"
          ]
        }
      ]
    },
    {
      "cell_type": "markdown",
      "source": [
        "## Building the model architecture"
      ],
      "metadata": {
        "id": "OVVs1-PXXQty"
      }
    },
    {
      "cell_type": "code",
      "source": [
        "# creating model architecture\n",
        "def multilayer_perceptron(x, no_classes, first_layer_neurons=256, second_layer_neurons=128):\n",
        "   # first layer\n",
        "   first_weight = tf.Variable(tf.random_uniform([new_dimension, first_layer_neurons]))\n",
        "   first_bias  = tf.Variable(tf.zeros([first_layer_neurons]))\n",
        "   first_layer_output = tf.nn.relu(tf.add(tf.matmul(x, first_weight), first_bias))\n",
        "   # second layer\n",
        "   second_weight = tf.Variable(tf.random_uniform([first_layer_neurons, second_layer_neurons]))\n",
        "   second_bias  = tf.Variable(tf.zeros([second_layer_neurons]))\n",
        "   second_layer_output = tf.nn.relu(tf.add(tf.matmul(first_layer_output, second_weight), second_bias))\n",
        "   # output layer\n",
        "   final_weight = tf.Variable(tf.random_uniform([second_layer_neurons, no_classes]))\n",
        "   final_bias  = tf.Variable(tf.zeros([no_classes]))\n",
        "   logits = tf.add(tf.matmul(second_layer_output, final_weight), final_bias)\n",
        "\n",
        "   return logits"
      ],
      "metadata": {
        "id": "87s3cXvpXH2p"
      },
      "execution_count": null,
      "outputs": []
    },
    {
      "cell_type": "code",
      "source": [
        "logits = multilayer_perceptron(X, no_labels)\n",
        "learning_rate = 0.01\n",
        "#we define the loss and optimiser for the network\n",
        "loss_op = tf.reduce_mean(tf.nn.softmax_cross_entropy_with_logits(logits=logits, labels=Y))\n",
        "optimiser = tf.train.AdamOptimizer(learning_rate=learning_rate)\n",
        "train_op = optimiser.minimize(loss_op)"
      ],
      "metadata": {
        "colab": {
          "base_uri": "https://localhost:8080/"
        },
        "id": "ADEImqcCqgMH",
        "outputId": "5895a27a-89a5-4bde-bba5-58480353c3fa"
      },
      "execution_count": null,
      "outputs": [
        {
          "output_type": "stream",
          "name": "stderr",
          "text": [
            "WARNING:tensorflow:From /usr/local/lib/python3.7/dist-packages/tensorflow/python/util/dispatch.py:1082: softmax_cross_entropy_with_logits (from tensorflow.python.ops.nn_ops) is deprecated and will be removed in a future version.\n",
            "Instructions for updating:\n",
            "\n",
            "Future major versions of TensorFlow will allow gradients to flow\n",
            "into the labels input on backprop by default.\n",
            "\n",
            "See `tf.nn.softmax_cross_entropy_with_logits_v2`.\n",
            "\n"
          ]
        }
      ]
    },
    {
      "cell_type": "markdown",
      "source": [
        "## Running the model"
      ],
      "metadata": {
        "id": "LJYzqKcwXObq"
      }
    },
    {
      "cell_type": "code",
      "source": [
        "#initialise the variables\n",
        "init = tf.global_variables_initializer()\n",
        "\n",
        "epochs = 20\n",
        "batch_size = 1000\n",
        "iteration  = len(x_train)  // batch_size\n",
        "#train model\n",
        "with tf.Session() as session:\n",
        "  session.run(init)\n",
        "  for epoch in range(epochs):\n",
        "    average_cost = 0\n",
        "    start, end = 0, batch_size\n",
        "    for i in range(iteration):\n",
        "      batch_x, batch_y = x_train[start: end], y_train[start:end]\n",
        "      _, loss = session.run([train_op, loss_op], feed_dict={X: batch_x, Y: batch_y})\n",
        "      start += batch_size\n",
        "      end  += batch_size\n",
        "      #average loss\n",
        "      average_cost +=loss/iteration\n",
        "    print(\"Epoch======={}\".format(epoch))\n",
        "    #evaluate model\n",
        "  prediction = tf.nn.softmax(logits)\n",
        "  ground_truth = tf.equal(tf.argmax(prediction, 1), tf.argmax(Y, 1))\n",
        "  accuracy = tf.reduce_mean(tf.cast(ground_truth, \"float\"))\n",
        "  print(\"Accuracy: {}\".format(accuracy.eval({X: test_images, Y: y_test})))\n",
        "    "
      ],
      "metadata": {
        "colab": {
          "base_uri": "https://localhost:8080/"
        },
        "id": "SWUr0a-YzF2F",
        "outputId": "e5524b3f-c6aa-4ff2-e18e-5184269cd560"
      },
      "execution_count": null,
      "outputs": [
        {
          "output_type": "stream",
          "name": "stdout",
          "text": [
            "Epoch=======0\n",
            "Epoch=======1\n",
            "Epoch=======2\n",
            "Epoch=======3\n",
            "Epoch=======4\n",
            "Epoch=======5\n",
            "Epoch=======6\n",
            "Epoch=======7\n",
            "Epoch=======8\n",
            "Epoch=======9\n",
            "Epoch=======10\n",
            "Epoch=======11\n",
            "Epoch=======12\n",
            "Epoch=======13\n",
            "Epoch=======14\n",
            "Epoch=======15\n",
            "Epoch=======16\n",
            "Epoch=======17\n",
            "Epoch=======18\n",
            "Epoch=======19\n",
            "Accuracy: 0.9121000170707703\n"
          ]
        }
      ]
    },
    {
      "cell_type": "markdown",
      "source": [
        "## Optimization for training deep neural networks"
      ],
      "metadata": {
        "id": "uaPviLJ6G70e"
      }
    },
    {
      "cell_type": "code",
      "source": [
        "#Building a Sequential Feed Forward Network in Keras\n",
        "\n",
        "from tensorflow.keras.layers import Dense\n",
        "from tensorflow.keras.models import Sequential\n",
        "#Build the model object\n",
        "model = Sequential()\n",
        "#Build the input and the hidden layers\n",
        "model.add(Dense(256, activation='relu', input_shape=(new_dimension,)))\n",
        "model.add(Dense(128, activation='relu'))\n",
        "#Build the output layer\n",
        "model.add(Dense(no_labels, activation='softmax'))"
      ],
      "metadata": {
        "id": "TxznkMTx3WoB"
      },
      "execution_count": null,
      "outputs": []
    },
    {
      "cell_type": "markdown",
      "source": [
        " Now that the model is in place, we configure the learning process using .compile(). Here we specify our loss function(or objective function). For our setting, categorical cross entropy fits the bill, but in general;other functions are available.\n",
        "\n",
        " As for the optimizer of choice we will use Adam with default settings. We would also instantiate an optimizer and set parameters before passing it to model.compile() but for this example the defaults will do\n",
        "\n",
        " We also choose which metrics will be evaluated during training and testing. We can pass any list of metrics - even build metrics ourselves - and have them displayed during training/testing.\n",
        "\n",
        " It is important that you compile your model before training and testing"
      ],
      "metadata": {
        "id": "1wXKCTie8zH9"
      }
    },
    {
      "cell_type": "code",
      "source": [
        "model.compile(optimizer='adam', loss=tf.keras.losses.categorical_crossentropy,\n",
        "              metrics=['accuracy'])"
      ],
      "metadata": {
        "id": "WtNZH2zU8rO-"
      },
      "execution_count": null,
      "outputs": []
    },
    {
      "cell_type": "markdown",
      "source": [
        "Having compiled our model we can now start the training process. We have to specify how many times we want to iterate on the whole training set (epochs) and how many samples we use for one update to the model's weights (batch_size)"
      ],
      "metadata": {
        "id": "oteabPJY-yCb"
      }
    },
    {
      "cell_type": "code",
      "source": [
        "history = model.fit(x_train, y_train, validation_data=(x_val, y_val), epochs=20, batch_size=1000)\n",
        "\n",
        "test_loss, test_accuracy = model.evaluate(test_images, y_test)\n",
        "print('Test loss: {}'.format(test_loss))\n",
        "print('Test accuracy: {}'.format(test_accuracy))"
      ],
      "metadata": {
        "colab": {
          "base_uri": "https://localhost:8080/"
        },
        "id": "qvYzQbd0-vry",
        "outputId": "0fa1bb9b-d81b-492c-de8e-58ebb5d7aa11"
      },
      "execution_count": null,
      "outputs": [
        {
          "output_type": "stream",
          "name": "stdout",
          "text": [
            "Train on 50000 samples, validate on 10000 samples\n",
            "Epoch 1/20\n",
            "50000/50000 [==============================] - 1s 23us/sample - loss: 0.6799 - acc: 0.8219 - val_loss: 0.2585 - val_acc: 0.9274\n",
            "Epoch 2/20\n",
            " 1000/50000 [..............................] - ETA: 1s - loss: 0.2814 - acc: 0.9220"
          ]
        },
        {
          "output_type": "stream",
          "name": "stderr",
          "text": [
            "/usr/local/lib/python3.7/dist-packages/keras/engine/training_v1.py:2057: UserWarning: `Model.state_updates` will be removed in a future version. This property should not be used in TensorFlow 2.0, as `updates` are applied automatically.\n",
            "  updates = self.state_updates\n"
          ]
        },
        {
          "output_type": "stream",
          "name": "stdout",
          "text": [
            "50000/50000 [==============================] - 1s 21us/sample - loss: 0.2372 - acc: 0.9320 - val_loss: 0.1881 - val_acc: 0.9485\n",
            "Epoch 3/20\n",
            "50000/50000 [==============================] - 1s 21us/sample - loss: 0.1720 - acc: 0.9509 - val_loss: 0.1479 - val_acc: 0.9599\n",
            "Epoch 4/20\n",
            "50000/50000 [==============================] - 1s 22us/sample - loss: 0.1359 - acc: 0.9616 - val_loss: 0.1297 - val_acc: 0.9648\n",
            "Epoch 5/20\n",
            "50000/50000 [==============================] - 1s 21us/sample - loss: 0.1112 - acc: 0.9685 - val_loss: 0.1119 - val_acc: 0.9683\n",
            "Epoch 6/20\n",
            "50000/50000 [==============================] - 1s 21us/sample - loss: 0.0937 - acc: 0.9726 - val_loss: 0.1026 - val_acc: 0.9716\n",
            "Epoch 7/20\n",
            "50000/50000 [==============================] - 1s 21us/sample - loss: 0.0787 - acc: 0.9773 - val_loss: 0.0987 - val_acc: 0.9715\n",
            "Epoch 8/20\n",
            "50000/50000 [==============================] - 1s 21us/sample - loss: 0.0659 - acc: 0.9813 - val_loss: 0.0934 - val_acc: 0.9735\n",
            "Epoch 9/20\n",
            "50000/50000 [==============================] - 1s 21us/sample - loss: 0.0566 - acc: 0.9840 - val_loss: 0.0918 - val_acc: 0.9731\n",
            "Epoch 10/20\n",
            "50000/50000 [==============================] - 1s 21us/sample - loss: 0.0479 - acc: 0.9867 - val_loss: 0.0863 - val_acc: 0.9750\n",
            "Epoch 11/20\n",
            "50000/50000 [==============================] - 1s 21us/sample - loss: 0.0422 - acc: 0.9882 - val_loss: 0.0817 - val_acc: 0.9757\n",
            "Epoch 12/20\n",
            "50000/50000 [==============================] - 1s 21us/sample - loss: 0.0354 - acc: 0.9909 - val_loss: 0.0829 - val_acc: 0.9763\n",
            "Epoch 13/20\n",
            "50000/50000 [==============================] - 1s 21us/sample - loss: 0.0307 - acc: 0.9922 - val_loss: 0.0831 - val_acc: 0.9764\n",
            "Epoch 14/20\n",
            "50000/50000 [==============================] - 1s 21us/sample - loss: 0.0263 - acc: 0.9932 - val_loss: 0.0817 - val_acc: 0.9760\n",
            "Epoch 15/20\n",
            "50000/50000 [==============================] - 1s 21us/sample - loss: 0.0219 - acc: 0.9952 - val_loss: 0.0772 - val_acc: 0.9774\n",
            "Epoch 16/20\n",
            "50000/50000 [==============================] - 1s 21us/sample - loss: 0.0194 - acc: 0.9958 - val_loss: 0.0767 - val_acc: 0.9783\n",
            "Epoch 17/20\n",
            "50000/50000 [==============================] - 1s 21us/sample - loss: 0.0165 - acc: 0.9969 - val_loss: 0.0791 - val_acc: 0.9788\n",
            "Epoch 18/20\n",
            "50000/50000 [==============================] - 1s 21us/sample - loss: 0.0139 - acc: 0.9974 - val_loss: 0.0764 - val_acc: 0.9789\n",
            "Epoch 19/20\n",
            "50000/50000 [==============================] - 1s 21us/sample - loss: 0.0124 - acc: 0.9977 - val_loss: 0.0802 - val_acc: 0.9773\n",
            "Epoch 20/20\n",
            "50000/50000 [==============================] - 1s 21us/sample - loss: 0.0111 - acc: 0.9981 - val_loss: 0.0816 - val_acc: 0.9772\n",
            "Test loss: 0.07221345473816618\n",
            "Test accuracy: 0.9786999821662903\n"
          ]
        }
      ]
    },
    {
      "cell_type": "code",
      "source": [
        "#Check for Overfitting\n",
        "\n",
        "plt.figure()\n",
        "plt.plot(history.history['loss'], 'blue')\n",
        "plt.plot(history.history['val_loss'], 'red')\n",
        "plt.legend(['Training loss', 'Validation Loss'])\n",
        "plt.xlabel('Epochs')\n",
        "plt.xlabel('Loss')\n",
        "plt.title('Loss Curves - before regularisation')"
      ],
      "metadata": {
        "colab": {
          "base_uri": "https://localhost:8080/",
          "height": 312
        },
        "id": "FHNw7GqcAxnr",
        "outputId": "4a9423ee-4562-4415-b1aa-3a161b984640"
      },
      "execution_count": null,
      "outputs": [
        {
          "output_type": "execute_result",
          "data": {
            "text/plain": [
              "Text(0.5, 1.0, 'Loss Curves - before regularisation')"
            ]
          },
          "metadata": {},
          "execution_count": 23
        },
        {
          "output_type": "display_data",
          "data": {
            "text/plain": [
              "<Figure size 432x288 with 1 Axes>"
            ],
            "image/png": "[encoded data removed]"
          },
          "metadata": {
            "needs_background": "light"
          }
        }
      ]
    },
    {
      "cell_type": "code",
      "source": [
        "from tensorflow.keras.layers import Dropout\n",
        "reg_model = Sequential()\n",
        "reg_model.add(Dense(256, activation='relu', input_shape=(new_dimension,)))\n",
        "reg_model.add(Dropout(0.4))\n",
        "reg_model.add(Dense(128, activation='relu'))\n",
        "reg_model.add(Dropout(0.4))\n",
        "reg_model.add(Dense(no_labels, activation='softmax'))\n",
        "\n",
        "reg_model.compile(optimizer='adam', loss=tf.keras.losses.categorical_crossentropy,\n",
        "                  metrics=['accuracy'])\n",
        "\n",
        "reg_history = reg_model.fit(x_train, y_train, validation_data=(x_val, y_val),\n",
        "                             epochs=20, batch_size=1000)\n",
        "test_loss, test_accuracy = reg_model.evaluate(test_images, y_test)\n",
        "print('Test loss: {}'.format(test_loss))\n",
        "print('Test accuracy: {}'.format(test_accuracy))"
      ],
      "metadata": {
        "colab": {
          "base_uri": "https://localhost:8080/"
        },
        "id": "TZ-4B7f5BomA",
        "outputId": "ec174362-16d6-402d-f02d-be745e51492a"
      },
      "execution_count": null,
      "outputs": [
        {
          "output_type": "stream",
          "name": "stdout",
          "text": [
            "Train on 50000 samples, validate on 10000 samples\n",
            "Epoch 1/20\n",
            "50000/50000 [==============================] - 1s 29us/sample - loss: 0.9671 - acc: 0.6922 - val_loss: 0.2915 - val_acc: 0.9144\n",
            "Epoch 2/20\n",
            " 1000/50000 [..............................] - ETA: 1s - loss: 0.4687 - acc: 0.8660"
          ]
        },
        {
          "output_type": "stream",
          "name": "stderr",
          "text": [
            "/usr/local/lib/python3.7/dist-packages/keras/engine/training_v1.py:2057: UserWarning: `Model.state_updates` will be removed in a future version. This property should not be used in TensorFlow 2.0, as `updates` are applied automatically.\n",
            "  updates = self.state_updates\n"
          ]
        },
        {
          "output_type": "stream",
          "name": "stdout",
          "text": [
            "50000/50000 [==============================] - 1s 26us/sample - loss: 0.3654 - acc: 0.8918 - val_loss: 0.1963 - val_acc: 0.9423\n",
            "Epoch 3/20\n",
            "50000/50000 [==============================] - 1s 26us/sample - loss: 0.2730 - acc: 0.9194 - val_loss: 0.1569 - val_acc: 0.9539\n",
            "Epoch 4/20\n",
            "50000/50000 [==============================] - 1s 26us/sample - loss: 0.2279 - acc: 0.9333 - val_loss: 0.1362 - val_acc: 0.9601\n",
            "Epoch 5/20\n",
            "50000/50000 [==============================] - 1s 26us/sample - loss: 0.1925 - acc: 0.9425 - val_loss: 0.1194 - val_acc: 0.9656\n",
            "Epoch 6/20\n",
            "50000/50000 [==============================] - 1s 26us/sample - loss: 0.1727 - acc: 0.9489 - val_loss: 0.1108 - val_acc: 0.9676\n",
            "Epoch 7/20\n",
            "50000/50000 [==============================] - 1s 25us/sample - loss: 0.1507 - acc: 0.9546 - val_loss: 0.1029 - val_acc: 0.9699\n",
            "Epoch 8/20\n",
            "50000/50000 [==============================] - 1s 27us/sample - loss: 0.1409 - acc: 0.9584 - val_loss: 0.0945 - val_acc: 0.9716\n",
            "Epoch 9/20\n",
            "50000/50000 [==============================] - 1s 26us/sample - loss: 0.1263 - acc: 0.9636 - val_loss: 0.0887 - val_acc: 0.9726\n",
            "Epoch 10/20\n",
            "50000/50000 [==============================] - 1s 25us/sample - loss: 0.1178 - acc: 0.9646 - val_loss: 0.0864 - val_acc: 0.9742\n",
            "Epoch 11/20\n",
            "50000/50000 [==============================] - 1s 27us/sample - loss: 0.1098 - acc: 0.9674 - val_loss: 0.0839 - val_acc: 0.9738\n",
            "Epoch 12/20\n",
            "50000/50000 [==============================] - 1s 27us/sample - loss: 0.1005 - acc: 0.9706 - val_loss: 0.0825 - val_acc: 0.9738\n",
            "Epoch 13/20\n",
            "50000/50000 [==============================] - 1s 26us/sample - loss: 0.0925 - acc: 0.9715 - val_loss: 0.0769 - val_acc: 0.9761\n",
            "Epoch 14/20\n",
            "50000/50000 [==============================] - 1s 26us/sample - loss: 0.0900 - acc: 0.9732 - val_loss: 0.0752 - val_acc: 0.9764\n",
            "Epoch 15/20\n",
            "50000/50000 [==============================] - 1s 26us/sample - loss: 0.0832 - acc: 0.9742 - val_loss: 0.0769 - val_acc: 0.9762\n",
            "Epoch 16/20\n",
            "50000/50000 [==============================] - 1s 27us/sample - loss: 0.0823 - acc: 0.9745 - val_loss: 0.0747 - val_acc: 0.9781\n",
            "Epoch 17/20\n",
            "50000/50000 [==============================] - 1s 27us/sample - loss: 0.0751 - acc: 0.9765 - val_loss: 0.0720 - val_acc: 0.9791\n",
            "Epoch 18/20\n",
            "50000/50000 [==============================] - 2s 35us/sample - loss: 0.0728 - acc: 0.9783 - val_loss: 0.0682 - val_acc: 0.9807\n",
            "Epoch 19/20\n",
            "50000/50000 [==============================] - 1s 26us/sample - loss: 0.0691 - acc: 0.9781 - val_loss: 0.0690 - val_acc: 0.9802\n",
            "Epoch 20/20\n",
            "50000/50000 [==============================] - 1s 26us/sample - loss: 0.0652 - acc: 0.9800 - val_loss: 0.0697 - val_acc: 0.9802\n",
            "Test loss: 0.06935228507170686\n",
            "Test accuracy: 0.9790999889373779\n"
          ]
        }
      ]
    },
    {
      "cell_type": "code",
      "source": [
        "test_loss, test_accuracy = reg_model.evaluate(test_images, y_test)\n",
        "print('Test loss: {}'.format(test_loss))\n",
        "print('Test accuracy: {}'.format(test_accuracy))"
      ],
      "metadata": {
        "colab": {
          "base_uri": "https://localhost:8080/"
        },
        "id": "n-UimT1gE3bG",
        "outputId": "ee4ad48b-a426-4375-defe-5c00c27247e8"
      },
      "execution_count": null,
      "outputs": [
        {
          "output_type": "stream",
          "name": "stdout",
          "text": [
            "Test loss: 0.06935228507170686\n",
            "Test accuracy: 0.9790999889373779\n"
          ]
        }
      ]
    },
    {
      "cell_type": "code",
      "source": [
        "plt.figure()\n",
        "plt.plot(reg_history.history['loss'], 'blue')\n",
        "plt.plot(reg_history.history['val_loss'], 'red')\n",
        "plt.legend(['Training loss', 'Validation Loss'])\n",
        "plt.xlabel('Epochs')\n",
        "plt.ylabel('Loss')\n",
        "plt.title('Loss Curves - after regularization')"
      ],
      "metadata": {
        "colab": {
          "base_uri": "https://localhost:8080/",
          "height": 312
        },
        "id": "8zDADiowFWjQ",
        "outputId": "bcbfbccd-bb94-4112-c0c2-403896e918b2"
      },
      "execution_count": null,
      "outputs": [
        {
          "output_type": "execute_result",
          "data": {
            "text/plain": [
              "Text(0.5, 1.0, 'Loss Curves - after regularization')"
            ]
          },
          "metadata": {},
          "execution_count": 26
        },
        {
          "output_type": "display_data",
          "data": {
            "text/plain": [
              "<Figure size 432x288 with 1 Axes>"
            ],
            "image/png": "[encoded data removed]"
          },
          "metadata": {
            "needs_background": "light"
          }
        }
      ]
    },
    {
      "cell_type": "markdown",
      "source": [
        "## Making Predictions"
      ],
      "metadata": {
        "id": "LT78HQfMGgAP"
      }
    },
    {
      "cell_type": "markdown",
      "source": [
        "This was added just for more calrity and understanding. Let's use our model to predict some images and labels"
      ],
      "metadata": {
        "id": "6YudcdYwGlbm"
      }
    },
    {
      "cell_type": "code",
      "source": [
        "predictions  = model.predict([test_images])  #Make prediction\n",
        "print(np.argmax(predictions[1000])) #Print out 9"
      ],
      "metadata": {
        "colab": {
          "base_uri": "https://localhost:8080/"
        },
        "id": "XeCeDmzPF12b",
        "outputId": "e997bace-10b1-4b13-d066-fc75423b0e8f"
      },
      "execution_count": null,
      "outputs": [
        {
          "output_type": "stream",
          "name": "stderr",
          "text": [
            "/usr/local/lib/python3.7/dist-packages/keras/engine/training_v1.py:2079: UserWarning: `Model.state_updates` will be removed in a future version. This property should not be used in TensorFlow 2.0, as `updates` are applied automatically.\n",
            "  updates=self.state_updates,\n"
          ]
        },
        {
          "output_type": "stream",
          "name": "stdout",
          "text": [
            "9\n"
          ]
        }
      ]
    },
    {
      "cell_type": "code",
      "source": [
        "# Let's see whether the image would turn out to be 9\n",
        "#Remember that the input data to the network were flattened for the purpose of learning to a vector with a length of 784. Before displaying it, we need to convert it back to the size of 28 x 28 pixels.\n",
        "plt.figure(figsize=(8,5))\n",
        "\n",
        "plt.subplot(1,3,1)\n",
        "plt.imshow(test_images[1000].reshape(28,28), cmap=\"gray\") # Import the image\n",
        "plt.show() #Show the image"
      ],
      "metadata": {
        "colab": {
          "base_uri": "https://localhost:8080/",
          "height": 181
        },
        "id": "ly8M9_tkHEm_",
        "outputId": "512798ad-a394-444e-cc8a-1ddff294bf8b"
      },
      "execution_count": null,
      "outputs": [
        {
          "output_type": "display_data",
          "data": {
            "text/plain": [
              "<Figure size 576x360 with 1 Axes>"
            ],
            "image/png": "[encoded data removed]"
          },
          "metadata": {
            "needs_background": "light"
          }
        }
      ]
    },
    {
      "cell_type": "code",
      "source": [
        "#You can aswell try out others and play around with them\n",
        "predictions = model.predict([test_images]) #Make prediction\n",
        "print(np.argmax(predictions[6703])) # Print out the number"
      ],
      "metadata": {
        "colab": {
          "base_uri": "https://localhost:8080/"
        },
        "id": "bHOr5izrIIIg",
        "outputId": "e3f7a03a-e6ac-4f2d-fe6f-20c24ef2e714"
      },
      "execution_count": null,
      "outputs": [
        {
          "output_type": "stream",
          "name": "stdout",
          "text": [
            "2\n"
          ]
        }
      ]
    },
    {
      "cell_type": "code",
      "source": [
        "plt.figure(figsize=(8, 5))\n",
        "\n",
        "plt.subplot(1,3,1)\n",
        "plt.imshow(test_images[6703].reshape(28,28), cmap=\"gray\") # Import the image\n",
        "plt.show()  # Show the image"
      ],
      "metadata": {
        "colab": {
          "base_uri": "https://localhost:8080/",
          "height": 181
        },
        "id": "4sjXbPWMIgj9",
        "outputId": "a96c8aad-ab5b-49c2-f631-4230aaddf603"
      },
      "execution_count": null,
      "outputs": [
        {
          "output_type": "display_data",
          "data": {
            "text/plain": [
              "<Figure size 576x360 with 1 Axes>"
            ],
            "image/png": "[encoded data removed]"
          },
          "metadata": {
            "needs_background": "light"
          }
        }
      ]
    }
  ]
}